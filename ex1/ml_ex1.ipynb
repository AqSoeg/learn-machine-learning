{
 "cells": [
  {
   "cell_type": "code",
   "execution_count": 1,
   "id": "168f32ca",
   "metadata": {},
   "outputs": [],
   "source": [
    "import numpy as np\n",
    "import pandas as pd\n",
    "import matplotlib.pyplot as plt"
   ]
  },
  {
   "cell_type": "markdown",
   "id": "48da05a1",
   "metadata": {},
   "source": [
    "# 1 Simple function"
   ]
  },
  {
   "cell_type": "code",
   "execution_count": 2,
   "id": "da15cbd0",
   "metadata": {},
   "outputs": [],
   "source": [
    "# 5 * 5 identity matrix\n",
    "a = np.eye(5)"
   ]
  },
  {
   "cell_type": "markdown",
   "id": "4bcfeffd",
   "metadata": {},
   "source": [
    "# 2 Linear regression with one variable\n",
    "predict profits for a food truck.\n",
    "\n",
    "**ex1data1.txt:** \n",
    "- population of a city\n",
    "- profit of a food truck in that city"
   ]
  },
  {
   "cell_type": "markdown",
   "id": "4f073cb7",
   "metadata": {},
   "source": [
    "## 2.1 Plotting the data"
   ]
  },
  {
   "cell_type": "code",
   "execution_count": 3,
   "id": "337edea7",
   "metadata": {},
   "outputs": [
    {
     "data": {
      "image/png": "[encoded data removed]",
      "text/plain": [
       "<Figure size 432x288 with 1 Axes>"
      ]
     },
     "metadata": {
      "needs_background": "light"
     },
     "output_type": "display_data"
    }
   ],
   "source": [
    "# read data\n",
    "data = pd.read_csv('ex1data1.txt', sep=',', header=None, names=['population', 'profit'])\n",
    "\n",
    "# scatter plot\n",
    "data.plot.scatter(x = 'population', y = 'profit')\n",
    "plt.show()"
   ]
  },
  {
   "cell_type": "markdown",
   "id": "d48605cc",
   "metadata": {},
   "source": [
    "## 2.2 Gradient Descent\n",
    "### 2.2.1 Update Equations\n",
    "\n",
    "The objective of linear regression is to minimize the cost function.\n",
    "\n",
    "$$J(\\theta)=\\frac{1}{2m}\\sum_{i=1}^{m}(h_{\\theta}(x^{(i)})-(y^{(i)}))^2$$\n",
    "\n",
    "where $h_{\\theta}(x)$ is given by the linear model\n",
    "$$h_{\\theta}(x)=\\theta^Tx=\\theta_0+\\theta_1x_1$$\n",
    "\n",
    "### 2.2.2 Implementation\n",
    "\n",
    "Initialize the initial parameters to 0 and the learning rate alpha to 0.01."
   ]
  },
  {
   "cell_type": "code",
   "execution_count": 4,
   "id": "e95630e5",
   "metadata": {},
   "outputs": [],
   "source": [
    "# add a column of ones to x\n",
    "data.insert(0, 'ones', 1)\n",
    "X = data.iloc[:, 0:2]\n",
    "y = data.iloc[:, [-1]]\n",
    "\n",
    "# initialize fitting parameters\n",
    "theta = np.zeros([2,1])\n",
    "\n",
    "iterations = 1500\n",
    "alpha = 0.01"
   ]
  },
  {
   "cell_type": "code",
   "execution_count": 5,
   "id": "4cf5fd0e",
   "metadata": {
    "scrolled": true
   },
   "outputs": [],
   "source": [
    "# change pd.DataFrame to ny.matrix\n",
    "X = np.matrix(X.values)\n",
    "y = np.matrix(y.values)"
   ]
  },
  {
   "cell_type": "markdown",
   "id": "fa11d490",
   "metadata": {},
   "source": [
    "### 2.2.3 Computing the cost\n",
    "Implement a function to calculate $J(\\theta)$ to check the convegence of the gradient descent implementation."
   ]
  },
  {
   "cell_type": "code",
   "execution_count": 6,
   "id": "fe12bf82",
   "metadata": {},
   "outputs": [
    {
     "data": {
      "text/plain": [
       "32.072733877455676"
      ]
     },
     "execution_count": 6,
     "metadata": {},
     "output_type": "execute_result"
    }
   ],
   "source": [
    "def computeCost(X, y, theta):\n",
    "    tmp = np.power(((X * theta) - y), 2)\n",
    "    J = np.sum(tmp) / (2 * len(X))\n",
    "    return J\n",
    "computeCost(X, y, theta)  # 32.072733877455676"
   ]
  },
  {
   "cell_type": "markdown",
   "id": "07d6452a",
   "metadata": {},
   "source": [
    "### 2.2.4 Gradient descent\n",
    "$$\\theta_j:=\\theta_j-\\alpha\\frac{1}{m}\\sum_{i=1}^{m}(h_\\theta(x^{(i)})-y^{(i)})x_j^{(i)}$$"
   ]
  },
  {
   "cell_type": "code",
   "execution_count": 7,
   "id": "fd1e88ec",
   "metadata": {},
   "outputs": [],
   "source": [
    "def gradientDescent(X, y, theta, alpha, iterations):\n",
    "    thetaTemp = theta  # backup of theta\n",
    "    dims = theta.shape[0]  # the number of j\n",
    "    cost = np.zeros(iterations)  # cost array\n",
    "    \n",
    "    for i in range(iterations):\n",
    "        t1 = (X * theta) - y\n",
    "        for j in range(dims):\n",
    "            t2 = t1.T.dot(X[:, j])\n",
    "            t3 = alpha * (np.sum(t2) / len(X))\n",
    "            thetaTemp[j, 0] = thetaTemp[j, 0] - t3\n",
    "        theta = thetaTemp\n",
    "        cost[i] = computeCost(X, y, theta)\n",
    "        \n",
    "    return theta, cost\n",
    "\n",
    "theta, cost = gradientDescent(X, y, theta, alpha, iterations)"
   ]
  },
  {
   "cell_type": "markdown",
   "id": "5012bcc7",
   "metadata": {},
   "source": [
    "after 1,500 iterations, the final $\\theta$ will be used to make predictions on profits in areas of 35,000 and 70,000 people."
   ]
  },
  {
   "cell_type": "code",
   "execution_count": null,
   "id": "d9715ff1",
   "metadata": {},
   "outputs": [],
   "source": [
    "predict1 = np.array([1, 3.5]).dot(theta)  # 0.45197679\n",
    "predict2 = np.array([1, 7]).dot(theta)    # 4.53424501"
   ]
  },
  {
   "cell_type": "code",
   "execution_count": 35,
   "id": "9891796e",
   "metadata": {},
   "outputs": [
    {
     "data": {
      "image/png": "[encoded data removed]",
      "text/plain": [
       "<Figure size 432x288 with 1 Axes>"
      ]
     },
     "metadata": {
      "needs_background": "light"
     },
     "output_type": "display_data"
    }
   ],
   "source": [
    "# draw a plot\n",
    "x = np.linspace(data.min(axis = 0)['population'], data.max(axis = 0)['population'], 100)\n",
    "fx = theta[0, 0] + theta[1, 0] * x\n",
    "\n",
    "fig, ax = plt.subplots()\n",
    "ax.plot(x, fx, 'r', label='Linear regression')\n",
    "ax.scatter(data.population, data.profit, label='Traning data')\n",
    "ax.legend(loc=4)\n",
    "ax.set_xlabel('Population of city in 10,000s')\n",
    "ax.set_ylabel('Profit in $10,000s')\n",
    "plt.show()"
   ]
  }
 ],
 "metadata": {
  "kernelspec": {
   "display_name": "Python 3 (ipykernel)",
   "language": "python",
   "name": "python3"
  },
  "language_info": {
   "codemirror_mode": {
    "name": "ipython",
    "version": 3
   },
   "file_extension": ".py",
   "mimetype": "text/x-python",
   "name": "python",
   "nbconvert_exporter": "python",
   "pygments_lexer": "ipython3",
   "version": "3.8.13"
  }
 },
 "nbformat": 4,
 "nbformat_minor": 5
}
